{
 "cells": [
  {
   "cell_type": "markdown",
   "metadata": {},
   "source": [
    "# 1 Cargar librerias\n"
   ]
  },
  {
   "cell_type": "code",
   "execution_count": 1,
   "metadata": {},
   "outputs": [],
   "source": [
    "import os\n",
    "import pyodbc\n",
    "from dotenv import load_dotenv\n",
    "import pandas as pd\n"
   ]
  },
  {
   "cell_type": "markdown",
   "metadata": {},
   "source": [
    "# 2 Crear el archivo .env para almacenar las credenciales\n"
   ]
  },
  {
   "cell_type": "code",
   "execution_count": 2,
   "metadata": {},
   "outputs": [
    {
     "name": "stdout",
     "output_type": "stream",
     "text": [
      "Archivo .env creado con éxito.\n"
     ]
    }
   ],
   "source": [
    "with open('.env', 'w') as f:\n",
    "    f.write('''\n",
    "DB_SERVER=20.122.25.241\n",
    "DB_NAME=SkandiaBItest\n",
    "DB_USER=Sebastian_Mejia\n",
    "DB_PASSWORD=Skandia.123\n",
    "''')\n",
    "print(\"Archivo .env creado con éxito.\")"
   ]
  },
  {
   "cell_type": "markdown",
   "metadata": {},
   "source": [
    "# 3 Conexión a la base de datos"
   ]
  },
  {
   "cell_type": "code",
   "execution_count": 3,
   "metadata": {},
   "outputs": [],
   "source": [
    "\n",
    "\n",
    "# Cargar variables de entorno desde el archivo .env\n",
    "#hace que las variables definidas en el archivo .env estén disponibles a través de os.getenv()\n",
    "load_dotenv()\n",
    "\n",
    "def connect_to_database():\n",
    "    \"\"\"\n",
    "    Establece una conexión a la base de datos SQL y maneja posibles errores.\n",
    "    Returns:\n",
    "        connection (pyodbc.Connection): Objeto de conexión si es exitoso.\n",
    "        cursor (pyodbc.Cursor): Cursor abierto para ejecutar consultas.\n",
    "    Raises:\n",
    "        ValueError: Si ocurre un error en la conexión.\n",
    "    \"\"\"\n",
    "    # Variables de entorno para las credenciales\n",
    "    server = os.getenv(\"DB_SERVER\")\n",
    "    database = os.getenv(\"DB_NAME\")\n",
    "    username = os.getenv(\"DB_USER\")\n",
    "    password = os.getenv(\"DB_PASSWORD\")\n",
    "\n",
    "    if not all([server, database, username, password]):\n",
    "        raise ValueError(\"Faltan variables de entorno. Verifica el archivo .env\")\n",
    "\n",
    "    # Configuración del tiempo de espera y cadena de conexión\n",
    "    connection_string = (\n",
    "    f\"DRIVER={{ODBC Driver 18 for SQL Server}};\"\n",
    "    f\"SERVER={server};\"\n",
    "    f\"DATABASE={database};\"\n",
    "    f\"UID={username};\"\n",
    "    f\"PWD={password};\"\n",
    "    f\"Timeout=10;\"\n",
    "    f\"TrustServerCertificate=yes;\"  # Ignorar la validación del certificado SSL\n",
    "    )\n",
    "\n",
    "    try:\n",
    "        # Establecer conexión\n",
    "        connection = pyodbc.connect(connection_string)\n",
    "        print(\"Conexión exitosa a la base de datos.\")\n",
    "        \n",
    "        # Crear un cursor que se usará para las consultas\n",
    "        cursor = connection.cursor()\n",
    "        return connection, cursor\n",
    "\n",
    "    except pyodbc.InterfaceError:\n",
    "        raise ValueError(\"No se pudo establecer una conexión. Verifica la IP o la red.\")\n",
    "    except pyodbc.OperationalError as e:\n",
    "        if \"28000\" in str(e):\n",
    "            raise ValueError(\"Credenciales incorrectas.\")\n",
    "        elif \"08001\" in str(e):\n",
    "            raise ValueError(\"El servidor no se encontró o la IP está bloqueada.\")\n",
    "        elif \"08S01\" in str(e):\n",
    "            raise ValueError(\"Error de red.\")\n",
    "        else:\n",
    "            raise ValueError(f\"Error operacional desconocido: {e}\")\n",
    "    except Exception as e:\n",
    "        raise ValueError(f\"Error inesperado al conectar: {e}\")\n"
   ]
  },
  {
   "cell_type": "markdown",
   "metadata": {},
   "source": [
    "## 3.1 Test conexión"
   ]
  },
  {
   "cell_type": "code",
   "execution_count": null,
   "metadata": {},
   "outputs": [],
   "source": [
    "\n",
    "# Probar la conexión y dejar el cursor abierto\n",
    "def test_connection():\n",
    "    \"\"\"\n",
    "    Prueba la conexión a la base de datos, mantiene el cursor abierto para consultas y garantiza un cierre seguro.\n",
    "    \"\"\"\n",
    "    connection = None\n",
    "    cursor = None\n",
    "    try:\n",
    "        connection, cursor = connect_to_database()\n",
    "        print(\"Conexión y cursor abiertos correctamente.\")\n",
    "        \n",
    "        # Aquí puedes realizar consultas utilizando el cursor.\n",
    "        # Ejemplo de consulta: Obtener las tablas\n",
    "        cursor.execute(\"SELECT table_name FROM information_schema.tables WHERE table_type = 'BASE TABLE'\")\n",
    "        tables = cursor.fetchall()\n",
    "        print(\"Tablas en la base de datos:\")\n",
    "        for table in tables:\n",
    "            print(table[0])  # El nombre de la tabla está en la primera columna\n",
    "        \n",
    "    except Exception as e:\n",
    "        print(f\"Error al ejecutar la consulta: {e}\")\n",
    "\n",
    "# Ejecutar la prueba\n",
    "test_connection()"
   ]
  },
  {
   "cell_type": "markdown",
   "metadata": {},
   "source": [
    "# 4 Obtener tablas como df"
   ]
  },
  {
   "cell_type": "code",
   "execution_count": 4,
   "metadata": {},
   "outputs": [],
   "source": [
    "def get_tables(cursor):\n",
    "    \"\"\"\n",
    "    Obtiene los nombres de todas las tablas de la base de datos.\n",
    "    Args:\n",
    "        cursor (pyodbc.Cursor): El cursor de la base de datos.\n",
    "    Returns:\n",
    "        list: Lista con los nombres de las tablas.\n",
    "    \"\"\"\n",
    "    cursor.execute(\"SELECT table_name FROM information_schema.tables WHERE table_type = 'BASE TABLE'\")\n",
    "    tables = cursor.fetchall()\n",
    "    return [table[0] for table in tables]\n"
   ]
  },
  {
   "cell_type": "markdown",
   "metadata": {},
   "source": [
    "## 4.1 Dataframes as parquet"
   ]
  },
  {
   "cell_type": "code",
   "execution_count": 5,
   "metadata": {},
   "outputs": [
    {
     "name": "stdout",
     "output_type": "stream",
     "text": [
      "Conexión exitosa a la base de datos.\n"
     ]
    },
    {
     "name": "stderr",
     "output_type": "stream",
     "text": [
      "/tmp/ipykernel_903401/2594420339.py:9: UserWarning: pandas only supports SQLAlchemy connectable (engine/connection) or database string URI or sqlite3 DBAPI2 connection. Other DBAPI2 objects are not tested. Please consider using SQLAlchemy.\n",
      "  df = pd.read_sql(query, cursor.connection)  # Leer la tabla como DataFrame\n",
      "/home/sebastian/.local/lib/python3.10/site-packages/pyarrow/pandas_compat.py:373: FutureWarning: is_sparse is deprecated and will be removed in a future version. Check `isinstance(dtype, pd.SparseDtype)` instead.\n",
      "  if _pandas_api.is_sparse(col):\n"
     ]
    },
    {
     "name": "stdout",
     "output_type": "stream",
     "text": [
      "Tabla Artist guardada como archivo Parquet.\n",
      "Tabla Album guardada como archivo Parquet.\n",
      "Tabla Employee guardada como archivo Parquet.\n",
      "Tabla Customer guardada como archivo Parquet.\n",
      "Tabla Genre guardada como archivo Parquet.\n",
      "Tabla Invoice guardada como archivo Parquet.\n",
      "Tabla Playlist guardada como archivo Parquet.\n",
      "Tabla MediaType guardada como archivo Parquet.\n",
      "Tabla Track guardada como archivo Parquet.\n",
      "Tabla PlaylistTrack guardada como archivo Parquet.\n",
      "Tabla InvoiceLine guardada como archivo Parquet.\n"
     ]
    }
   ],
   "source": [
    "\n",
    "def save_table_as_parquet(cursor, table_name):\n",
    "    \"\"\"\n",
    "    Obtiene una tabla de la base de datos, la guarda como un DataFrame y la exporta a formato Parquet.\n",
    "    Args:\n",
    "        cursor (pyodbc.Cursor): El cursor de la base de datos.\n",
    "        table_name (str): El nombre de la tabla a consultar.\n",
    "    \"\"\"\n",
    "    query = f\"SELECT * FROM {table_name}\"\n",
    "    df = pd.read_sql(query, cursor.connection)  # Leer la tabla como DataFrame\n",
    "\n",
    "    # Guardar como archivo Parquet\n",
    "    df.to_parquet(f\"{table_name}.parquet\", index=False)\n",
    "    print(f\"Tabla {table_name} guardada como archivo Parquet.\")\n",
    "\n",
    "\n",
    "def process_all_tables():\n",
    "    \"\"\"\n",
    "    Obtiene todas las tablas, las guarda como archivos Parquet y realiza análisis descriptivos.\n",
    "    \"\"\"\n",
    "    connection, cursor = connect_to_database()\n",
    "    try:\n",
    "        tables = get_tables(cursor)\n",
    "        for table in tables:\n",
    "            save_table_as_parquet(cursor, table)\n",
    "    except Exception as e:\n",
    "        print(f\"Error en el procesamiento de tablas: {e}\")\n",
    "\n",
    "# Ejecutar el proceso\n",
    "process_all_tables()"
   ]
  },
  {
   "cell_type": "markdown",
   "metadata": {},
   "source": [
    "# Consultas"
   ]
  },
  {
   "cell_type": "markdown",
   "metadata": {},
   "source": [
    "## Tabla customers"
   ]
  },
  {
   "cell_type": "markdown",
   "metadata": {},
   "source": [
    "De la tabla Customer realice un conteo y agrupe por estado y ciudad, y grafico con el top 5 de los países con mayor cantidad de clientes."
   ]
  },
  {
   "cell_type": "code",
   "execution_count": 6,
   "metadata": {},
   "outputs": [
    {
     "name": "stdout",
     "output_type": "stream",
     "text": [
      "Conexión exitosa a la base de datos.\n"
     ]
    },
    {
     "name": "stderr",
     "output_type": "stream",
     "text": [
      "/tmp/ipykernel_903401/2043501115.py:4: UserWarning: pandas only supports SQLAlchemy connectable (engine/connection) or database string URI or sqlite3 DBAPI2 connection. Other DBAPI2 objects are not tested. Please consider using SQLAlchemy.\n",
      "  df_customer = pd.read_sql(query, cursor.connection)\n"
     ]
    }
   ],
   "source": [
    "\n",
    "# Realiza la consulta SQL para obtener los datos\n",
    "connection, cursor = connect_to_database()\n",
    "query = \"SELECT Country, State, City, CustomerID FROM Customer\"\n",
    "df_customer = pd.read_sql(query, cursor.connection) "
   ]
  },
  {
   "cell_type": "markdown",
   "metadata": {},
   "source": [
    "Dado que state presenta valores None, creamos un diccionario clave:country+city, valor:abreviatura de estado."
   ]
  },
  {
   "cell_type": "code",
   "execution_count": 7,
   "metadata": {},
   "outputs": [],
   "source": [
    "state_abbreviations = {\n",
    "    'BrazilSão José dos Campos': 'SP',   # São Paulo\n",
    "    'GermanyStuttgart': 'BW',             # Baden-Württemberg\n",
    "    'CanadaMontréal': 'QC',               # Quebec\n",
    "    'NorwayOslo': 'Oslo',                 # Oslo no tiene abreviatura, es la ciudad\n",
    "    'Czech RepublicPrague': 'PR',          # Prague es la ciudad, no un estado\n",
    "    'AustriaVienne': 'VIE',               # Viena (no tiene una abreviatura tradicional de estado, pero VIE es su código)\n",
    "    'BelgiumBrussels': 'BRU',             # Bruselas no tiene un estado, pero BRU es su código\n",
    "    'DenmarkCopenhagen': 'H',             # Hovedstaden (Región capital de Dinamarca)\n",
    "    'BrazilSão Paulo': 'SP',              # São Paulo\n",
    "    'BrazilRio de Janeiro': 'RJ',         # Rio de Janeiro\n",
    "    'BrazilBrasília': 'DF',               # Distrito Federal\n",
    "    'CanadaEdmonton': 'AB',               # Alberta\n",
    "    'CanadaVancouver': 'BC',              # Columbia Británica\n",
    "    'USAMountain View': 'CA',             # California\n",
    "    'USARedmond': 'WA',                   # Washington\n",
    "    'USANew York': 'NY',                  # Nueva York\n",
    "    'USACupertino': 'CA',                 # California\n",
    "    'USAReno': 'NV',                      # Nevada\n",
    "    'USAOrlando': 'FL',                   # Florida\n",
    "    'USABoston': 'MA',                    # Massachusetts\n",
    "    'USAChicago': 'IL',                   # Illinois\n",
    "    'USAMadison': 'WI',                   # Wisconsin\n",
    "    'USAFort Worth': 'TX',                # Texas\n",
    "    'USATucson': 'AZ',                    # Arizona\n",
    "    'USASalt Lake City': 'UT',            # Utah\n",
    "    'CanadaToronto': 'ON',                # Ontario\n",
    "    'CanadaOttawa': 'ON',                 # Ontario\n",
    "    'CanadaHalifax': 'NS',                # Nueva Escocia\n",
    "    'CanadaWinnipeg': 'MB',               # Manitoba\n",
    "    'CanadaYellowknife': 'NT',            # Territorios del Noroeste\n",
    "    'PortugalLisbon': 'Lisbon',           # Lisboa no tiene un estado, es la ciudad capital\n",
    "    'PortugalPorto': 'Porto',             # Porto es una ciudad y no un estado\n",
    "    'GermanyBerlin': 'BE',                # Berlín\n",
    "    'GermanyFrankfurt': 'HE',             # Hesse\n",
    "    'FranceParis': 'IDF',                 # Île-de-France\n",
    "    'FranceLyon': 'ARA',                  # Auvernia-Ródano-Alpes\n",
    "    'FranceBordeaux': 'NAQ',              # Nueva Aquitania\n",
    "    'FranceDijon': 'BFC',                 # Borgoña-Franco Condado\n",
    "    'FinlandHelsinki': 'HE',              # Helsinki-Uusimaa\n",
    "    'HungaryBudapest': 'BU',              # Budapest es la ciudad capital\n",
    "    'IrelandDublin': 'Dublin',            # Dublín es la ciudad capital\n",
    "    'ItalyRome': 'LAZ',                   # Lazio\n",
    "    'NetherlandsAmsterdam': 'NH',         # Holanda Septentrional\n",
    "    'PolandWarsaw': 'MAZ',                # Mazovia\n",
    "    'SpainMadrid': 'MD',                  # Madrid\n",
    "    'SwedenStockholm': 'AB',              # Estocolmo\n",
    "    'United KingdomLondon': 'ENG',        # Inglaterra\n",
    "    'United KingdomEdinburgh ': 'SCT',    # Escocia\n",
    "    'AustraliaSidney': 'NSW',             # Nueva Gales del Sur\n",
    "    'ArgentinaBuenos Aires': 'BA',        # Buenos Aires\n",
    "    'ChileSantiago': 'RM',                # Región Metropolitana\n",
    "    'IndiaDelhi': 'DL',                   # Delhi\n",
    "    'IndiaBangalore': 'KA'                # Karnataka\n",
    "}\n"
   ]
  },
  {
   "cell_type": "code",
   "execution_count": 8,
   "metadata": {},
   "outputs": [],
   "source": [
    "# Función para asignar el estado usando el diccionario\n",
    "def assign_state(row):\n",
    "    # Concatenar la combinación de país y ciudad\n",
    "    country_city = row['Country'] + row['City']\n",
    "    # Buscar el estado en el diccionario\n",
    "    return state_abbreviations.get(country_city, 'Unknown')  # Si no se encuentra, devolver 'Unknown'\n",
    "\n",
    "# Asignar la columna 'State' al DataFrame usando la función\n",
    "df_customer['State2'] = df_customer.apply(assign_state, axis=1)\n"
   ]
  },
  {
   "cell_type": "code",
   "execution_count": 9,
   "metadata": {},
   "outputs": [
    {
     "data": {
      "text/plain": [
       "array(['SP', 'BW', 'QC', 'Oslo', 'PR', 'VIE', 'BRU', 'H', 'RJ', 'DF',\n",
       "       'AB', 'BC', 'CA', 'WA', 'NY', 'NV', 'FL', 'MA', 'IL', 'WI', 'TX',\n",
       "       'AZ', 'UT', 'ON', 'NS', 'MB', 'NT', 'Lisbon', 'Porto', 'BE', 'HE',\n",
       "       'IDF', 'ARA', 'NAQ', 'BFC', 'BU', 'Dublin', 'LAZ', 'NH', 'MAZ',\n",
       "       'MD', 'ENG', 'SCT', 'NSW', 'BA', 'RM', 'DL', 'KA'], dtype=object)"
      ]
     },
     "execution_count": 9,
     "metadata": {},
     "output_type": "execute_result"
    }
   ],
   "source": [
    "df_customer['State2'].unique()"
   ]
  },
  {
   "cell_type": "code",
   "execution_count": 10,
   "metadata": {},
   "outputs": [
    {
     "name": "stdout",
     "output_type": "stream",
     "text": [
      "   State2           City  client_count\n",
      "6      BE         Berlin             2\n",
      "12     CA  Mountain View             2\n",
      "16    ENG         London             2\n",
      "21    IDF          Paris             2\n",
      "40     PR         Prague             2\n"
     ]
    }
   ],
   "source": [
    " # Leer la tabla como DataFrame\n",
    "\n",
    "# Agrupar por Estado y Ciudad, y contar los clientes\n",
    "df_grouped = df_customer.groupby(['State2', 'City']).agg(client_count=('CustomerID', 'count')).reset_index()\n",
    "df_grouped=df_grouped.sort_values(by=(['client_count','State2','City']),ascending=[False,True,True])\n",
    "\n",
    "# Mostrar los primeros 10 registros del DataFrame agrupado\n",
    "print(df_grouped.head())"
   ]
  },
  {
   "cell_type": "markdown",
   "metadata": {},
   "source": [
    "### Grafico"
   ]
  },
  {
   "cell_type": "code",
   "execution_count": 11,
   "metadata": {},
   "outputs": [],
   "source": [
    "# Agrupar por Estado y Ciudad, y contar los clientes\n",
    "df_grouped_by_country = df_customer.groupby('Country').agg(client_count=('CustomerID', 'count')).reset_index()\n",
    "df_grouped_by_country_sorted = df_grouped_by_country.sort_values(by='client_count', ascending=False)\n",
    "df_grouped_by_country_top5 = df_grouped_by_country_sorted.head(5)"
   ]
  },
  {
   "cell_type": "code",
   "execution_count": 12,
   "metadata": {},
   "outputs": [
    {
     "data": {
      "image/png": "[encoded data removed]",
      "text/plain": [
       "<Figure size 1000x600 with 1 Axes>"
      ]
     },
     "metadata": {},
     "output_type": "display_data"
    }
   ],
   "source": [
    "import matplotlib.pyplot as plt\n",
    "\n",
    "# Crear un gráfico de barras para mostrar el top 5 de países con más clientes\n",
    "plt.figure(figsize=(10, 6))\n",
    "plt.bar(df_grouped_by_country_top5['Country'], df_grouped_by_country_top5['client_count'], color='skyblue')\n",
    "\n",
    "# Etiquetas y título\n",
    "plt.xlabel('País')\n",
    "plt.ylabel('Cantidad de Clientes')\n",
    "plt.title('Top 5 de Países con Mayor Cantidad de Clientes')\n",
    "plt.xticks(rotation=45)  # Rotar las etiquetas del eje X para mejor visualización\n",
    "\n",
    "# Mostrar el gráfico\n",
    "plt.tight_layout()\n",
    "plt.show()"
   ]
  },
  {
   "cell_type": "markdown",
   "metadata": {},
   "source": [
    "## Tablas invoicey y InvoiceLine "
   ]
  },
  {
   "cell_type": "markdown",
   "metadata": {},
   "source": [
    "De las tablas Invoice y InvoiceLine realice un análisis donde indique:\n",
    "1 cuales son los 5 tracks más vendidos,\n",
    "2 los 5 artistas que más venden,\n",
    "3 el mes donde más ventas se tienen \n",
    "4 realice una gráfica con los 5 géneros más vendidos."
   ]
  },
  {
   "cell_type": "code",
   "execution_count": 13,
   "metadata": {},
   "outputs": [
    {
     "name": "stdout",
     "output_type": "stream",
     "text": [
      "Conexión exitosa a la base de datos.\n"
     ]
    },
    {
     "name": "stderr",
     "output_type": "stream",
     "text": [
      "/tmp/ipykernel_903401/795453065.py:4: UserWarning: pandas only supports SQLAlchemy connectable (engine/connection) or database string URI or sqlite3 DBAPI2 connection. Other DBAPI2 objects are not tested. Please consider using SQLAlchemy.\n",
      "  df_invoice = pd.read_sql(query_invoice, cursor.connection)\n",
      "/tmp/ipykernel_903401/795453065.py:7: UserWarning: pandas only supports SQLAlchemy connectable (engine/connection) or database string URI or sqlite3 DBAPI2 connection. Other DBAPI2 objects are not tested. Please consider using SQLAlchemy.\n",
      "  df_invoiceLine  = pd.read_sql(query_invoiceLine, cursor.connection)\n"
     ]
    }
   ],
   "source": [
    "\n",
    "# Realiza la consulta SQL para obtener los datos\n",
    "connection, cursor = connect_to_database()\n",
    "query_invoice = \"SELECT * FROM Invoice\"\n",
    "df_invoice = pd.read_sql(query_invoice, cursor.connection) \n",
    "\n",
    "query_invoiceLine = \"SELECT * FROM InvoiceLine \"\n",
    "df_invoiceLine  = pd.read_sql(query_invoiceLine, cursor.connection) "
   ]
  },
  {
   "cell_type": "code",
   "execution_count": 14,
   "metadata": {},
   "outputs": [
    {
     "data": {
      "text/html": [
       "<div>\n",
       "<style scoped>\n",
       "    .dataframe tbody tr th:only-of-type {\n",
       "        vertical-align: middle;\n",
       "    }\n",
       "\n",
       "    .dataframe tbody tr th {\n",
       "        vertical-align: top;\n",
       "    }\n",
       "\n",
       "    .dataframe thead th {\n",
       "        text-align: right;\n",
       "    }\n",
       "</style>\n",
       "<table border=\"1\" class=\"dataframe\">\n",
       "  <thead>\n",
       "    <tr style=\"text-align: right;\">\n",
       "      <th></th>\n",
       "      <th>InvoiceId</th>\n",
       "      <th>CustomerId</th>\n",
       "      <th>InvoiceDate</th>\n",
       "      <th>BillingAddress</th>\n",
       "      <th>BillingCity</th>\n",
       "      <th>BillingState</th>\n",
       "      <th>BillingCountry</th>\n",
       "      <th>BillingPostalCode</th>\n",
       "      <th>Total</th>\n",
       "    </tr>\n",
       "  </thead>\n",
       "  <tbody>\n",
       "    <tr>\n",
       "      <th>0</th>\n",
       "      <td>1</td>\n",
       "      <td>2</td>\n",
       "      <td>2021-01-01</td>\n",
       "      <td>Theodor-Heuss-Straße 34</td>\n",
       "      <td>Stuttgart</td>\n",
       "      <td>None</td>\n",
       "      <td>Germany</td>\n",
       "      <td>70174</td>\n",
       "      <td>1.98</td>\n",
       "    </tr>\n",
       "    <tr>\n",
       "      <th>1</th>\n",
       "      <td>2</td>\n",
       "      <td>4</td>\n",
       "      <td>2021-01-02</td>\n",
       "      <td>Ullevålsveien 14</td>\n",
       "      <td>Oslo</td>\n",
       "      <td>None</td>\n",
       "      <td>Norway</td>\n",
       "      <td>0171</td>\n",
       "      <td>3.96</td>\n",
       "    </tr>\n",
       "    <tr>\n",
       "      <th>2</th>\n",
       "      <td>3</td>\n",
       "      <td>8</td>\n",
       "      <td>2021-01-03</td>\n",
       "      <td>Grétrystraat 63</td>\n",
       "      <td>Brussels</td>\n",
       "      <td>None</td>\n",
       "      <td>Belgium</td>\n",
       "      <td>1000</td>\n",
       "      <td>5.94</td>\n",
       "    </tr>\n",
       "    <tr>\n",
       "      <th>3</th>\n",
       "      <td>4</td>\n",
       "      <td>14</td>\n",
       "      <td>2021-01-06</td>\n",
       "      <td>8210 111 ST NW</td>\n",
       "      <td>Edmonton</td>\n",
       "      <td>AB</td>\n",
       "      <td>Canada</td>\n",
       "      <td>T6G 2C7</td>\n",
       "      <td>8.91</td>\n",
       "    </tr>\n",
       "    <tr>\n",
       "      <th>4</th>\n",
       "      <td>5</td>\n",
       "      <td>23</td>\n",
       "      <td>2021-01-11</td>\n",
       "      <td>69 Salem Street</td>\n",
       "      <td>Boston</td>\n",
       "      <td>MA</td>\n",
       "      <td>USA</td>\n",
       "      <td>2113</td>\n",
       "      <td>13.86</td>\n",
       "    </tr>\n",
       "  </tbody>\n",
       "</table>\n",
       "</div>"
      ],
      "text/plain": [
       "   InvoiceId  CustomerId InvoiceDate           BillingAddress BillingCity  \\\n",
       "0          1           2  2021-01-01  Theodor-Heuss-Straße 34   Stuttgart   \n",
       "1          2           4  2021-01-02         Ullevålsveien 14        Oslo   \n",
       "2          3           8  2021-01-03          Grétrystraat 63    Brussels   \n",
       "3          4          14  2021-01-06           8210 111 ST NW    Edmonton   \n",
       "4          5          23  2021-01-11          69 Salem Street      Boston   \n",
       "\n",
       "  BillingState BillingCountry BillingPostalCode  Total  \n",
       "0         None        Germany             70174   1.98  \n",
       "1         None         Norway              0171   3.96  \n",
       "2         None        Belgium              1000   5.94  \n",
       "3           AB         Canada           T6G 2C7   8.91  \n",
       "4           MA            USA              2113  13.86  "
      ]
     },
     "execution_count": 14,
     "metadata": {},
     "output_type": "execute_result"
    }
   ],
   "source": [
    "df_invoice.head()"
   ]
  },
  {
   "cell_type": "code",
   "execution_count": 15,
   "metadata": {},
   "outputs": [
    {
     "data": {
      "text/html": [
       "<div>\n",
       "<style scoped>\n",
       "    .dataframe tbody tr th:only-of-type {\n",
       "        vertical-align: middle;\n",
       "    }\n",
       "\n",
       "    .dataframe tbody tr th {\n",
       "        vertical-align: top;\n",
       "    }\n",
       "\n",
       "    .dataframe thead th {\n",
       "        text-align: right;\n",
       "    }\n",
       "</style>\n",
       "<table border=\"1\" class=\"dataframe\">\n",
       "  <thead>\n",
       "    <tr style=\"text-align: right;\">\n",
       "      <th></th>\n",
       "      <th>InvoiceLineId</th>\n",
       "      <th>InvoiceId</th>\n",
       "      <th>TrackId</th>\n",
       "      <th>UnitPrice</th>\n",
       "      <th>Quantity</th>\n",
       "    </tr>\n",
       "  </thead>\n",
       "  <tbody>\n",
       "    <tr>\n",
       "      <th>0</th>\n",
       "      <td>1</td>\n",
       "      <td>1</td>\n",
       "      <td>2</td>\n",
       "      <td>0.99</td>\n",
       "      <td>1</td>\n",
       "    </tr>\n",
       "    <tr>\n",
       "      <th>1</th>\n",
       "      <td>2</td>\n",
       "      <td>1</td>\n",
       "      <td>4</td>\n",
       "      <td>0.99</td>\n",
       "      <td>1</td>\n",
       "    </tr>\n",
       "    <tr>\n",
       "      <th>2</th>\n",
       "      <td>3</td>\n",
       "      <td>2</td>\n",
       "      <td>6</td>\n",
       "      <td>0.99</td>\n",
       "      <td>1</td>\n",
       "    </tr>\n",
       "    <tr>\n",
       "      <th>3</th>\n",
       "      <td>4</td>\n",
       "      <td>2</td>\n",
       "      <td>8</td>\n",
       "      <td>0.99</td>\n",
       "      <td>1</td>\n",
       "    </tr>\n",
       "    <tr>\n",
       "      <th>4</th>\n",
       "      <td>5</td>\n",
       "      <td>2</td>\n",
       "      <td>10</td>\n",
       "      <td>0.99</td>\n",
       "      <td>1</td>\n",
       "    </tr>\n",
       "  </tbody>\n",
       "</table>\n",
       "</div>"
      ],
      "text/plain": [
       "   InvoiceLineId  InvoiceId  TrackId  UnitPrice  Quantity\n",
       "0              1          1        2       0.99         1\n",
       "1              2          1        4       0.99         1\n",
       "2              3          2        6       0.99         1\n",
       "3              4          2        8       0.99         1\n",
       "4              5          2       10       0.99         1"
      ]
     },
     "execution_count": 15,
     "metadata": {},
     "output_type": "execute_result"
    }
   ],
   "source": [
    "df_invoiceLine.head()"
   ]
  },
  {
   "cell_type": "markdown",
   "metadata": {},
   "source": [
    "### Los 5 tracks más vendidos"
   ]
  },
  {
   "cell_type": "code",
   "execution_count": 16,
   "metadata": {},
   "outputs": [
    {
     "name": "stdout",
     "output_type": "stream",
     "text": [
      "los id de los 5 tracks mas vendidos son:\n",
      "      TrackId  TotalQuantity\n",
      "1983     3500              2\n",
      "1297     2263              2\n",
      "1689     2945              2\n",
      "1690     2946              2\n",
      "800      1389              2\n"
     ]
    }
   ],
   "source": [
    "# Agrupar por 'TrackId' y contar cuántas veces se repite cada uno\n",
    "track_id_quantity = df_invoiceLine.groupby('TrackId')['Quantity'].sum().reset_index(name='TotalQuantity')\n",
    "track_id_quantity=track_id_quantity.sort_values(by='TotalQuantity',ascending=[False])\n",
    "# Mostrar el resultado\n",
    "print(f'los id de los 5 tracks mas vendidos son:\\n{track_id_quantity.head(5)}')"
   ]
  },
  {
   "cell_type": "markdown",
   "metadata": {},
   "source": [
    "###  los 5 artistas que más venden"
   ]
  },
  {
   "cell_type": "code",
   "execution_count": 17,
   "metadata": {},
   "outputs": [
    {
     "name": "stdout",
     "output_type": "stream",
     "text": [
      "La columna 'Total' no contiene valores None o NaN.\n"
     ]
    }
   ],
   "source": [
    "# Verificar si hay valores None o NaN en la columna 'Total'\n",
    "contains_none = df_invoice['Total'].isna().any()\n",
    "\n",
    "# Imprimir el resultado\n",
    "if contains_none:\n",
    "    print(\"La columna 'Total' contiene valores None o NaN.\")\n",
    "else:\n",
    "    print(\"La columna 'Total' no contiene valores None o NaN.\")"
   ]
  },
  {
   "cell_type": "code",
   "execution_count": 18,
   "metadata": {},
   "outputs": [
    {
     "name": "stdout",
     "output_type": "stream",
     "text": [
      "los id de los 5 artistas con mayores ventas son:\n",
      "    CustomerId  Total_sales\n",
      "5            6        49.62\n",
      "25          26        47.62\n",
      "56          57        46.62\n",
      "45          46        45.62\n",
      "44          45        45.62\n"
     ]
    }
   ],
   "source": [
    "# Agrupar por 'TrackId' y contar cuántas veces se repite cada uno\n",
    "artis_top = df_invoice.groupby('CustomerId')['Total'].sum().reset_index(name='Total_sales')\n",
    "artis_top=artis_top.sort_values(by='Total_sales',ascending=[False])\n",
    "# Mostrar el resultado\n",
    "print(f'los id de los 5 artistas con mayores ventas son:\\n{artis_top.head(5)}')"
   ]
  },
  {
   "cell_type": "markdown",
   "metadata": {},
   "source": [
    "### el mes donde más ventas se tienen "
   ]
  },
  {
   "cell_type": "code",
   "execution_count": 19,
   "metadata": {},
   "outputs": [
    {
     "name": "stdout",
     "output_type": "stream",
     "text": [
      "La columna 'InvoiceDate' no contiene valores None o NaN.\n"
     ]
    }
   ],
   "source": [
    "# Verificar si hay valores None o NaN en la columna 'Total'\n",
    "contains_none = df_invoice['InvoiceDate'].isna().any()\n",
    "\n",
    "# Imprimir el resultado\n",
    "if contains_none:\n",
    "    print(\"La columna 'InvoiceDate' contiene valores None o NaN.\")\n",
    "else:\n",
    "    print(\"La columna 'InvoiceDate' no contiene valores None o NaN.\")"
   ]
  },
  {
   "cell_type": "code",
   "execution_count": 20,
   "metadata": {},
   "outputs": [
    {
     "name": "stdout",
     "output_type": "stream",
     "text": [
      "los 5 meses con mayores ventas son:\n",
      "   month  Total_sales\n",
      "0      1       201.12\n",
      "5      6       201.10\n",
      "3      4       198.14\n",
      "7      8       198.10\n",
      "8      9       196.20\n"
     ]
    }
   ],
   "source": [
    "# Agrupar por 'TrackId' y contar cuántas veces se repite cada uno\n",
    "\n",
    "df_invoice['month']=df_invoice['InvoiceDate'].dt.month\n",
    "month_top = df_invoice.groupby('month')['Total'].sum().reset_index(name='Total_sales')\n",
    "month_top=month_top.sort_values(by='Total_sales',ascending=[False])\n",
    "# Mostrar el resultado\n",
    "print(f'los 5 meses con mayores ventas son:\\n{month_top.head(5)}')"
   ]
  },
  {
   "cell_type": "markdown",
   "metadata": {},
   "source": [
    "### realice una gráfica con los 5 géneros más vendidos"
   ]
  },
  {
   "cell_type": "code",
   "execution_count": 21,
   "metadata": {},
   "outputs": [
    {
     "name": "stderr",
     "output_type": "stream",
     "text": [
      "/tmp/ipykernel_903401/983405541.py:2: UserWarning: pandas only supports SQLAlchemy connectable (engine/connection) or database string URI or sqlite3 DBAPI2 connection. Other DBAPI2 objects are not tested. Please consider using SQLAlchemy.\n",
      "  df_genere = pd.read_sql(query, cursor.connection)\n"
     ]
    },
    {
     "data": {
      "text/html": [
       "<div>\n",
       "<style scoped>\n",
       "    .dataframe tbody tr th:only-of-type {\n",
       "        vertical-align: middle;\n",
       "    }\n",
       "\n",
       "    .dataframe tbody tr th {\n",
       "        vertical-align: top;\n",
       "    }\n",
       "\n",
       "    .dataframe thead th {\n",
       "        text-align: right;\n",
       "    }\n",
       "</style>\n",
       "<table border=\"1\" class=\"dataframe\">\n",
       "  <thead>\n",
       "    <tr style=\"text-align: right;\">\n",
       "      <th></th>\n",
       "      <th>GenreId</th>\n",
       "      <th>Name</th>\n",
       "    </tr>\n",
       "  </thead>\n",
       "  <tbody>\n",
       "    <tr>\n",
       "      <th>0</th>\n",
       "      <td>1</td>\n",
       "      <td>Rock</td>\n",
       "    </tr>\n",
       "    <tr>\n",
       "      <th>1</th>\n",
       "      <td>2</td>\n",
       "      <td>Jazz</td>\n",
       "    </tr>\n",
       "    <tr>\n",
       "      <th>2</th>\n",
       "      <td>3</td>\n",
       "      <td>Metal</td>\n",
       "    </tr>\n",
       "    <tr>\n",
       "      <th>3</th>\n",
       "      <td>4</td>\n",
       "      <td>Alternative &amp; Punk</td>\n",
       "    </tr>\n",
       "    <tr>\n",
       "      <th>4</th>\n",
       "      <td>5</td>\n",
       "      <td>Rock And Roll</td>\n",
       "    </tr>\n",
       "  </tbody>\n",
       "</table>\n",
       "</div>"
      ],
      "text/plain": [
       "   GenreId                Name\n",
       "0        1                Rock\n",
       "1        2                Jazz\n",
       "2        3               Metal\n",
       "3        4  Alternative & Punk\n",
       "4        5       Rock And Roll"
      ]
     },
     "execution_count": 21,
     "metadata": {},
     "output_type": "execute_result"
    }
   ],
   "source": [
    "\n",
    "query = \"SELECT * FROM Genre\"\n",
    "df_genere = pd.read_sql(query, cursor.connection) \n",
    "df_genere.head()"
   ]
  },
  {
   "cell_type": "code",
   "execution_count": 22,
   "metadata": {},
   "outputs": [
    {
     "data": {
      "text/plain": [
       "Index(['InvoiceId', 'CustomerId', 'InvoiceDate', 'BillingAddress',\n",
       "       'BillingCity', 'BillingState', 'BillingCountry', 'BillingPostalCode',\n",
       "       'Total', 'month'],\n",
       "      dtype='object')"
      ]
     },
     "execution_count": 22,
     "metadata": {},
     "output_type": "execute_result"
    }
   ],
   "source": [
    "df_invoice.columns"
   ]
  },
  {
   "cell_type": "code",
   "execution_count": 23,
   "metadata": {},
   "outputs": [
    {
     "data": {
      "text/plain": [
       "Index(['InvoiceLineId', 'InvoiceId', 'TrackId', 'UnitPrice', 'Quantity'], dtype='object')"
      ]
     },
     "execution_count": 23,
     "metadata": {},
     "output_type": "execute_result"
    }
   ],
   "source": [
    "df_invoiceLine.columns"
   ]
  },
  {
   "cell_type": "code",
   "execution_count": 24,
   "metadata": {},
   "outputs": [
    {
     "name": "stdout",
     "output_type": "stream",
     "text": [
      "Conexión exitosa a la base de datos.\n"
     ]
    },
    {
     "name": "stderr",
     "output_type": "stream",
     "text": [
      "/tmp/ipykernel_903401/2612635741.py:3: UserWarning: pandas only supports SQLAlchemy connectable (engine/connection) or database string URI or sqlite3 DBAPI2 connection. Other DBAPI2 objects are not tested. Please consider using SQLAlchemy.\n",
      "  df_track = pd.read_sql(query, cursor.connection)\n",
      "/tmp/ipykernel_903401/2612635741.py:6: UserWarning: pandas only supports SQLAlchemy connectable (engine/connection) or database string URI or sqlite3 DBAPI2 connection. Other DBAPI2 objects are not tested. Please consider using SQLAlchemy.\n",
      "  df_genere = pd.read_sql(query, cursor.connection)\n"
     ]
    }
   ],
   "source": [
    "connection, cursor = connect_to_database()\n",
    "query = \"SELECT * FROM Track\"\n",
    "df_track = pd.read_sql(query, cursor.connection) \n",
    "\n",
    "query = \"SELECT * FROM Genre\"\n",
    "df_genere = pd.read_sql(query, cursor.connection) \n",
    "df_merge_invoice=pd.merge(df_invoiceLine,\n",
    "                   df_invoice,\n",
    "                   on='InvoiceId',\n",
    "                   how='inner')"
   ]
  },
  {
   "cell_type": "code",
   "execution_count": 26,
   "metadata": {},
   "outputs": [],
   "source": [
    "df_merge_invoice_track=pd.merge(df_merge_invoice,\n",
    "                                df_track,\n",
    "                                on='TrackId',\n",
    "                                how='inner')\n",
    "df_invoice_track_genre=pd.merge(df_merge_invoice_track,\n",
    "                                df_track,\n",
    "                                on='GenreId',\n",
    "                                how='inner'    \n",
    ")\n"
   ]
  },
  {
   "cell_type": "code",
   "execution_count": 27,
   "metadata": {},
   "outputs": [
    {
     "data": {
      "text/plain": [
       "Index(['InvoiceLineId', 'InvoiceId', 'TrackId_x', 'UnitPrice_x', 'Quantity',\n",
       "       'CustomerId', 'InvoiceDate', 'BillingAddress', 'BillingCity',\n",
       "       'BillingState', 'BillingCountry', 'BillingPostalCode', 'Total', 'month',\n",
       "       'Name_x', 'AlbumId_x', 'MediaTypeId_x', 'GenreId', 'Composer_x',\n",
       "       'Milliseconds_x', 'Bytes_x', 'UnitPrice_y', 'TrackId_y', 'Name_y',\n",
       "       'AlbumId_y', 'MediaTypeId_y', 'Composer_y', 'Milliseconds_y', 'Bytes_y',\n",
       "       'UnitPrice'],\n",
       "      dtype='object')"
      ]
     },
     "execution_count": 27,
     "metadata": {},
     "output_type": "execute_result"
    }
   ],
   "source": [
    "df_invoice_track_genre.columns"
   ]
  },
  {
   "cell_type": "code",
   "execution_count": 28,
   "metadata": {},
   "outputs": [
    {
     "name": "stdout",
     "output_type": "stream",
     "text": [
      "los 5 generos con mayores ventas son:\n",
      "                         Name_x  Total_sales\n",
      "485                    Eruption     59065.38\n",
      "1509        Sure Know Something     42372.99\n",
      "384          Dazed and Confused     37236.87\n",
      "1202                      Polly     35952.84\n",
      "54    Afraid To Shoot Strangers     35952.84\n"
     ]
    }
   ],
   "source": [
    "\n",
    "\n",
    "\n",
    "\n",
    "genere_top = df_invoice_track_genre.groupby('Name_x')['Total'].sum().reset_index(name='Total_sales')\n",
    "genere_top=genere_top.sort_values(by='Total_sales',ascending=[False])\n",
    "# Mostrar el resultado\n",
    "print(f'los 5 generos con mayores ventas son:\\n{genere_top.head(5)}')"
   ]
  }
 ],
 "metadata": {
  "kernelspec": {
   "display_name": "Python 3",
   "language": "python",
   "name": "python3"
  },
  "language_info": {
   "codemirror_mode": {
    "name": "ipython",
    "version": 3
   },
   "file_extension": ".py",
   "mimetype": "text/x-python",
   "name": "python",
   "nbconvert_exporter": "python",
   "pygments_lexer": "ipython3",
   "version": "3.10.12"
  }
 },
 "nbformat": 4,
 "nbformat_minor": 2
}
